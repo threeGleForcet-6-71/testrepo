{
    "cells": [
        {
            "cell_type": "code",
            "execution_count": 4,
            "metadata": {},
            "outputs": [
                {
                    "data": {
                        "text/html": "<div>\n<style scoped>\n    .dataframe tbody tr th:only-of-type {\n        vertical-align: middle;\n    }\n\n    .dataframe tbody tr th {\n        vertical-align: top;\n    }\n\n    .dataframe thead th {\n        text-align: right;\n    }\n</style>\n<table border=\"1\" class=\"dataframe\">\n  <thead>\n    <tr style=\"text-align: right;\">\n      <th></th>\n      <th>dateTime</th>\n      <th>measure</th>\n      <th>value</th>\n    </tr>\n  </thead>\n  <tbody>\n    <tr>\n      <th>0</th>\n      <td>2022-06-09T00:00:00Z</td>\n      <td>http://environment.data.gov.uk/flood-monitorin...</td>\n      <td>0.000</td>\n    </tr>\n    <tr>\n      <th>1</th>\n      <td>2022-06-09T00:00:00Z</td>\n      <td>http://environment.data.gov.uk/flood-monitorin...</td>\n      <td>0.000</td>\n    </tr>\n    <tr>\n      <th>2</th>\n      <td>2022-06-09T00:00:00Z</td>\n      <td>http://environment.data.gov.uk/flood-monitorin...</td>\n      <td>0.100</td>\n    </tr>\n    <tr>\n      <th>3</th>\n      <td>2022-06-09T00:00:00Z</td>\n      <td>http://environment.data.gov.uk/flood-monitorin...</td>\n      <td>0.000</td>\n    </tr>\n    <tr>\n      <th>4</th>\n      <td>2022-06-09T00:00:00Z</td>\n      <td>http://environment.data.gov.uk/flood-monitorin...</td>\n      <td>0.035</td>\n    </tr>\n  </tbody>\n</table>\n</div>",
                        "text/plain": "               dateTime                                            measure  \\\n0  2022-06-09T00:00:00Z  http://environment.data.gov.uk/flood-monitorin...   \n1  2022-06-09T00:00:00Z  http://environment.data.gov.uk/flood-monitorin...   \n2  2022-06-09T00:00:00Z  http://environment.data.gov.uk/flood-monitorin...   \n3  2022-06-09T00:00:00Z  http://environment.data.gov.uk/flood-monitorin...   \n4  2022-06-09T00:00:00Z  http://environment.data.gov.uk/flood-monitorin...   \n\n   value  \n0  0.000  \n1  0.000  \n2  0.100  \n3  0.000  \n4  0.035  "
                    },
                    "execution_count": 4,
                    "metadata": {},
                    "output_type": "execute_result"
                }
            ],
            "source": "# The code was removed by Watson Studio for sharing."
        },
        {
            "cell_type": "code",
            "execution_count": 3,
            "metadata": {},
            "outputs": [
                {
                    "data": {
                        "text/html": "<div>\n<style scoped>\n    .dataframe tbody tr th:only-of-type {\n        vertical-align: middle;\n    }\n\n    .dataframe tbody tr th {\n        vertical-align: top;\n    }\n\n    .dataframe thead th {\n        text-align: right;\n    }\n</style>\n<table border=\"1\" class=\"dataframe\">\n  <thead>\n    <tr style=\"text-align: right;\">\n      <th></th>\n      <th>dateTime</th>\n      <th>measure</th>\n      <th>value</th>\n    </tr>\n  </thead>\n  <tbody>\n    <tr>\n      <th>0</th>\n      <td>2022-06-09T00:00:00Z</td>\n      <td>http://environment.data.gov.uk/flood-monitorin...</td>\n      <td>0.000</td>\n    </tr>\n    <tr>\n      <th>1</th>\n      <td>2022-06-09T00:00:00Z</td>\n      <td>http://environment.data.gov.uk/flood-monitorin...</td>\n      <td>0.000</td>\n    </tr>\n    <tr>\n      <th>2</th>\n      <td>2022-06-09T00:00:00Z</td>\n      <td>http://environment.data.gov.uk/flood-monitorin...</td>\n      <td>0.100</td>\n    </tr>\n    <tr>\n      <th>3</th>\n      <td>2022-06-09T00:00:00Z</td>\n      <td>http://environment.data.gov.uk/flood-monitorin...</td>\n      <td>0.000</td>\n    </tr>\n    <tr>\n      <th>4</th>\n      <td>2022-06-09T00:00:00Z</td>\n      <td>http://environment.data.gov.uk/flood-monitorin...</td>\n      <td>0.035</td>\n    </tr>\n    <tr>\n      <th>...</th>\n      <td>...</td>\n      <td>...</td>\n      <td>...</td>\n    </tr>\n    <tr>\n      <th>451970</th>\n      <td>2022-06-09T23:15:00Z</td>\n      <td>http://environment.data.gov.uk/flood-monitorin...</td>\n      <td>0.608</td>\n    </tr>\n    <tr>\n      <th>451971</th>\n      <td>2022-06-09T20:45:00Z</td>\n      <td>http://environment.data.gov.uk/flood-monitorin...</td>\n      <td>0.623</td>\n    </tr>\n    <tr>\n      <th>451972</th>\n      <td>2022-06-09T21:15:00Z</td>\n      <td>http://environment.data.gov.uk/flood-monitorin...</td>\n      <td>0.616</td>\n    </tr>\n    <tr>\n      <th>451973</th>\n      <td>2022-06-09T22:15:00Z</td>\n      <td>http://environment.data.gov.uk/flood-monitorin...</td>\n      <td>0.609</td>\n    </tr>\n    <tr>\n      <th>451974</th>\n      <td>2022-06-09T20:30:00Z</td>\n      <td>http://environment.data.gov.uk/flood-monitorin...</td>\n      <td>0.626</td>\n    </tr>\n  </tbody>\n</table>\n<p>451975 rows \u00d7 3 columns</p>\n</div>",
                        "text/plain": "                    dateTime  \\\n0       2022-06-09T00:00:00Z   \n1       2022-06-09T00:00:00Z   \n2       2022-06-09T00:00:00Z   \n3       2022-06-09T00:00:00Z   \n4       2022-06-09T00:00:00Z   \n...                      ...   \n451970  2022-06-09T23:15:00Z   \n451971  2022-06-09T20:45:00Z   \n451972  2022-06-09T21:15:00Z   \n451973  2022-06-09T22:15:00Z   \n451974  2022-06-09T20:30:00Z   \n\n                                                  measure  value  \n0       http://environment.data.gov.uk/flood-monitorin...  0.000  \n1       http://environment.data.gov.uk/flood-monitorin...  0.000  \n2       http://environment.data.gov.uk/flood-monitorin...  0.100  \n3       http://environment.data.gov.uk/flood-monitorin...  0.000  \n4       http://environment.data.gov.uk/flood-monitorin...  0.035  \n...                                                   ...    ...  \n451970  http://environment.data.gov.uk/flood-monitorin...  0.608  \n451971  http://environment.data.gov.uk/flood-monitorin...  0.623  \n451972  http://environment.data.gov.uk/flood-monitorin...  0.616  \n451973  http://environment.data.gov.uk/flood-monitorin...  0.609  \n451974  http://environment.data.gov.uk/flood-monitorin...  0.626  \n\n[451975 rows x 3 columns]"
                    },
                    "execution_count": 3,
                    "metadata": {},
                    "output_type": "execute_result"
                }
            ],
            "source": "df_data_1"
        },
        {
            "cell_type": "code",
            "execution_count": null,
            "metadata": {},
            "outputs": [],
            "source": ""
        }
    ],
    "metadata": {
        "kernelspec": {
            "display_name": "Python 3.9",
            "language": "python",
            "name": "python3"
        },
        "language_info": {
            "codemirror_mode": {
                "name": "ipython",
                "version": 3
            },
            "file_extension": ".py",
            "mimetype": "text/x-python",
            "name": "python",
            "nbconvert_exporter": "python",
            "pygments_lexer": "ipython3",
            "version": "3.9.7"
        }
    },
    "nbformat": 4,
    "nbformat_minor": 1
}